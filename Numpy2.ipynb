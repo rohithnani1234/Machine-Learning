{
 "cells": [
  {
   "cell_type": "code",
   "execution_count": 1,
   "id": "dfec1b3d-a19f-4190-9004-fc82113647d5",
   "metadata": {},
   "outputs": [
    {
     "name": "stdout",
     "output_type": "stream",
     "text": [
      "[10, 20, 30, 30, 40, 50]\n"
     ]
    }
   ],
   "source": [
    "import numpy as np\n",
    "list1=[10,20,30]\n",
    "list2=[30,40,50]\n",
    "print(list1+list2)"
   ]
  },
  {
   "cell_type": "code",
   "execution_count": 2,
   "id": "2f7c6b8c-9452-4a46-a5c6-f8e3e366afa5",
   "metadata": {},
   "outputs": [
    {
     "name": "stdout",
     "output_type": "stream",
     "text": [
      "[10, 20, 30, 10, 20, 30, 10, 20, 30, 10, 20, 30]\n"
     ]
    }
   ],
   "source": [
    "list2=4\n",
    "print(list1*list2)"
   ]
  },
  {
   "cell_type": "code",
   "execution_count": 3,
   "id": "0790fa9f-abf0-4518-8f9e-6af38904f23b",
   "metadata": {},
   "outputs": [
    {
     "name": "stdout",
     "output_type": "stream",
     "text": [
      "[1 2 3]\n"
     ]
    }
   ],
   "source": [
    "l1=np.array([1,2,3])\n",
    "print(l1)"
   ]
  },
  {
   "cell_type": "code",
   "execution_count": 4,
   "id": "f8951a75-d19e-4e5f-a430-9681226d56b1",
   "metadata": {},
   "outputs": [
    {
     "name": "stdout",
     "output_type": "stream",
     "text": [
      "[3 6 9]\n"
     ]
    }
   ],
   "source": [
    "l2=(3)\n",
    "print(l1*l2)"
   ]
  },
  {
   "cell_type": "code",
   "execution_count": 5,
   "id": "8ce1cf4b-153c-485a-92dc-5a9263a585da",
   "metadata": {},
   "outputs": [
    {
     "name": "stdout",
     "output_type": "stream",
     "text": [
      "[30 40 20 40 30]\n"
     ]
    }
   ],
   "source": [
    "a=[30,40,20,40,30]\n",
    "arr=np.array(a)\n",
    "print(arr)"
   ]
  },
  {
   "cell_type": "code",
   "execution_count": 6,
   "id": "d7b7fe27-36cf-4404-9314-015606ecf9cb",
   "metadata": {},
   "outputs": [
    {
     "name": "stdout",
     "output_type": "stream",
     "text": [
      "(5,)\n"
     ]
    }
   ],
   "source": [
    "print(arr.shape) #rows,columns"
   ]
  },
  {
   "cell_type": "code",
   "execution_count": 7,
   "id": "37f425f0-1453-4f8b-88ff-df9038fa7dff",
   "metadata": {},
   "outputs": [
    {
     "name": "stdout",
     "output_type": "stream",
     "text": [
      "5\n"
     ]
    }
   ],
   "source": [
    "print(len(arr)) #no of nested values"
   ]
  },
  {
   "cell_type": "code",
   "execution_count": 8,
   "id": "56d18b35-126e-434c-99af-39cc24bf3c91",
   "metadata": {},
   "outputs": [
    {
     "name": "stdout",
     "output_type": "stream",
     "text": [
      "5\n"
     ]
    }
   ],
   "source": [
    "print(np.size(arr)) #no of elements"
   ]
  },
  {
   "cell_type": "code",
   "execution_count": 9,
   "id": "de03b7be-4f2c-44eb-a9b8-915c812f3259",
   "metadata": {},
   "outputs": [
    {
     "name": "stdout",
     "output_type": "stream",
     "text": [
      "<class 'numpy.ndarray'>\n"
     ]
    }
   ],
   "source": [
    "print(type(arr)) #datatype of variable"
   ]
  },
  {
   "cell_type": "code",
   "execution_count": 10,
   "id": "c76b6f15-b4ee-44f0-843c-f553dea0a4da",
   "metadata": {},
   "outputs": [
    {
     "name": "stdout",
     "output_type": "stream",
     "text": [
      "int32\n"
     ]
    }
   ],
   "source": [
    "print(arr.dtype) #datatype of array"
   ]
  },
  {
   "cell_type": "code",
   "execution_count": 11,
   "id": "e2d6a3d0-e879-4bbc-9f0f-d74a7f146ad7",
   "metadata": {},
   "outputs": [
    {
     "name": "stdout",
     "output_type": "stream",
     "text": [
      "['30' '40' '20' '40' '30']\n"
     ]
    }
   ],
   "source": [
    "print(arr.astype(str)) #conversion of datatype"
   ]
  },
  {
   "cell_type": "code",
   "execution_count": 12,
   "id": "2fa0a14b-6b3d-406e-bbdf-3585c2fcbf91",
   "metadata": {},
   "outputs": [
    {
     "name": "stdout",
     "output_type": "stream",
     "text": [
      "[ 5  7  9 11 13]\n"
     ]
    }
   ],
   "source": [
    "#Mathematical operations and Functions on Arrays\n",
    "import numpy as np\n",
    "arr=np.array([1,2,3,4,5])\n",
    "arr2=np.array([4,5,6,7,8])\n",
    "print(arr+arr2)"
   ]
  },
  {
   "cell_type": "code",
   "execution_count": 13,
   "id": "33904031-1c05-4db0-b3ee-b6396e974ca1",
   "metadata": {},
   "outputs": [
    {
     "name": "stdout",
     "output_type": "stream",
     "text": [
      "[ 5  7  9 11 13]\n"
     ]
    }
   ],
   "source": [
    "print(np.add(arr,arr2)) #np.add"
   ]
  },
  {
   "cell_type": "code",
   "execution_count": 14,
   "id": "66f018ef-b472-45d2-bf34-4069e5e7f0af",
   "metadata": {},
   "outputs": [
    {
     "name": "stdout",
     "output_type": "stream",
     "text": [
      "[-3 -3 -3 -3 -3]\n"
     ]
    }
   ],
   "source": [
    "print(np.subtract(arr,arr2)) #np.subtract"
   ]
  },
  {
   "cell_type": "code",
   "execution_count": 15,
   "id": "dd7a58dc-faca-408e-8bc9-d796d05fe567",
   "metadata": {},
   "outputs": [
    {
     "name": "stdout",
     "output_type": "stream",
     "text": [
      "[ 4 10 18 28 40]\n"
     ]
    }
   ],
   "source": [
    "print(np.multiply(arr,arr2)) #np.multiply"
   ]
  },
  {
   "cell_type": "code",
   "execution_count": 16,
   "id": "30185c89-13f5-47f9-b5bd-31933d38e9cf",
   "metadata": {},
   "outputs": [
    {
     "name": "stdout",
     "output_type": "stream",
     "text": [
      "[0.25       0.4        0.5        0.57142857 0.625     ]\n"
     ]
    }
   ],
   "source": [
    "print(np.divide(arr,arr2)) #np.divide"
   ]
  },
  {
   "cell_type": "code",
   "execution_count": 17,
   "id": "6f5d1c3e-93df-450a-9549-b1147f05888a",
   "metadata": {},
   "outputs": [
    {
     "name": "stdout",
     "output_type": "stream",
     "text": [
      "[[ 6  8]\n",
      " [10 12]]\n",
      "[[-4 -4]\n",
      " [-4 -4]]\n",
      "[[ 5 12]\n",
      " [21 32]]\n",
      "[[0.2        0.33333333]\n",
      " [0.42857143 0.5       ]]\n"
     ]
    }
   ],
   "source": [
    "a=np.array([[1,2],[3,4]])\n",
    "b=np.array([[5,6],[7,8]])\n",
    "print(np.add(a,b))\n",
    "print(np.subtract(a,b))\n",
    "print(np.multiply(a,b))\n",
    "print(np.divide(a,b))"
   ]
  },
  {
   "cell_type": "code",
   "execution_count": 18,
   "id": "7bc4759a-af12-4029-9247-0459122a3112",
   "metadata": {},
   "outputs": [
    {
     "data": {
      "text/plain": [
       "array([[ 2.71828183,  7.3890561 ],\n",
       "       [20.08553692, 54.59815003]])"
      ]
     },
     "execution_count": 18,
     "metadata": {},
     "output_type": "execute_result"
    }
   ],
   "source": [
    "np.exp(a)"
   ]
  },
  {
   "cell_type": "code",
   "execution_count": 19,
   "id": "e150bd52-4123-4165-b203-fdba663b14fd",
   "metadata": {},
   "outputs": [
    {
     "data": {
      "text/plain": [
       "array([[1.        , 1.41421356],\n",
       "       [1.73205081, 2.        ]])"
      ]
     },
     "execution_count": 19,
     "metadata": {},
     "output_type": "execute_result"
    }
   ],
   "source": [
    "np.sqrt(a)"
   ]
  },
  {
   "cell_type": "code",
   "execution_count": 20,
   "id": "e720d903-fd1c-43a0-a6aa-fcc107d0ce52",
   "metadata": {},
   "outputs": [
    {
     "name": "stdout",
     "output_type": "stream",
     "text": [
      "[[    1    64]\n",
      " [ 2187 65536]]\n"
     ]
    }
   ],
   "source": [
    "print(np.power(a,b))"
   ]
  },
  {
   "cell_type": "code",
   "execution_count": 21,
   "id": "ba6f588d-4ee6-44d8-a45a-ec70129570aa",
   "metadata": {},
   "outputs": [
    {
     "name": "stdout",
     "output_type": "stream",
     "text": [
      "[1, 2, 3, 4, 5, 6]\n"
     ]
    }
   ],
   "source": [
    "#splitting array\n",
    "a=[1,2,3]\n",
    "b=[4,5,6]\n",
    "print(a+b)"
   ]
  },
  {
   "cell_type": "code",
   "execution_count": 22,
   "id": "4a9a75a2-07ae-466a-a9cb-cccff065ddf8",
   "metadata": {},
   "outputs": [
    {
     "name": "stdout",
     "output_type": "stream",
     "text": [
      "[[ 1  2  3]\n",
      " [ 7  8  9]\n",
      " [ 4  5  6]\n",
      " [10 11 12]]\n"
     ]
    }
   ],
   "source": [
    "#concatenate\n",
    "\n",
    "arr=np.array([[1,2,3],[7,8,9]])\n",
    "arr2=np.array([[4,5,6],[10,11,12]])\n",
    "print(np.concatenate([arr,arr2]))"
   ]
  },
  {
   "cell_type": "code",
   "execution_count": 23,
   "id": "78de56fa-7d66-49c2-bafa-96c9ac01ac05",
   "metadata": {},
   "outputs": [
    {
     "name": "stdout",
     "output_type": "stream",
     "text": [
      "[[ 1  2  3  4  5  6]\n",
      " [ 7  8  9 10 11 12]]\n"
     ]
    }
   ],
   "source": [
    "print(np.concatenate([arr,arr2],axis=1))"
   ]
  },
  {
   "cell_type": "code",
   "execution_count": 24,
   "id": "3f3c0526-4bd2-4494-a11e-9708ae7a3ee9",
   "metadata": {},
   "outputs": [
    {
     "name": "stdout",
     "output_type": "stream",
     "text": [
      "[[ 1  2  3  4  5  6]\n",
      " [ 7  8  9 10 11 12]]\n"
     ]
    }
   ],
   "source": [
    "print(np.hstack([arr,arr2])) #horizontal Concatenation"
   ]
  },
  {
   "cell_type": "code",
   "execution_count": 25,
   "id": "d2486f24-3d16-49ec-9bdc-71c47a9a6c8b",
   "metadata": {},
   "outputs": [
    {
     "name": "stdout",
     "output_type": "stream",
     "text": [
      "[[ 1  2  3]\n",
      " [ 7  8  9]\n",
      " [ 4  5  6]\n",
      " [10 11 12]]\n"
     ]
    }
   ],
   "source": [
    " print(np.vstack([arr,arr2])) #Vertical Concatenation"
   ]
  },
  {
   "cell_type": "code",
   "execution_count": 26,
   "id": "2b75e6af-37f9-4aed-ad95-195c664825e6",
   "metadata": {},
   "outputs": [
    {
     "name": "stdout",
     "output_type": "stream",
     "text": [
      "[array([1, 2]), array([3, 4]), array([5, 6])]\n",
      "[3 4]\n"
     ]
    }
   ],
   "source": [
    "a=np.array([1,2,3,4,5,6])\n",
    "b=np.array_split(a,3)\n",
    "print(np.array_split(a,3))\n",
    "print(b[1])"
   ]
  },
  {
   "cell_type": "code",
   "execution_count": 27,
   "id": "5ac9c6f1-d56b-4228-a94e-5ac901769954",
   "metadata": {},
   "outputs": [
    {
     "name": "stdout",
     "output_type": "stream",
     "text": [
      "[20 40 60 80 90]\n"
     ]
    }
   ],
   "source": [
    "#adding and removig elements\n",
    "a=np.array([20,40,60,80])\n",
    "print(np.append(a,90))"
   ]
  },
  {
   "cell_type": "code",
   "execution_count": 28,
   "id": "20301050-7dc1-40d7-a32d-bbd919e688d2",
   "metadata": {},
   "outputs": [
    {
     "name": "stdout",
     "output_type": "stream",
     "text": [
      "[20 40 60 80 90]\n"
     ]
    }
   ],
   "source": [
    "a=np.array([[20,40],[60,80]])\n",
    "print(np.append(a,90))"
   ]
  },
  {
   "cell_type": "code",
   "execution_count": 29,
   "id": "b4a822ed-7d3a-4437-9aed-159b62290670",
   "metadata": {},
   "outputs": [
    {
     "name": "stdout",
     "output_type": "stream",
     "text": [
      "[ 20  40  60  80  90 100]\n"
     ]
    }
   ],
   "source": [
    "a=np.array([[20,40],[60,80]])\n",
    "print(np.append(a,[90,100]))"
   ]
  },
  {
   "cell_type": "code",
   "execution_count": 30,
   "id": "c804114a-4d92-48b3-a5df-5994840bfde3",
   "metadata": {},
   "outputs": [
    {
     "name": "stdout",
     "output_type": "stream",
     "text": [
      "[20 50 40 60 80]\n"
     ]
    }
   ],
   "source": [
    "print(np.insert(a,1,50)) #array,index,element"
   ]
  },
  {
   "cell_type": "code",
   "execution_count": 31,
   "id": "166365ff-f378-4ec5-b75b-903fde29a0e0",
   "metadata": {},
   "outputs": [
    {
     "name": "stdout",
     "output_type": "stream",
     "text": [
      "[[20 40]\n",
      " [50 60]\n",
      " [60 80]]\n"
     ]
    }
   ],
   "source": [
    "print(np.insert(a,1,[50,60],axis=0))"
   ]
  },
  {
   "cell_type": "code",
   "execution_count": 32,
   "id": "dea95814-5902-4b6b-a6f3-f36ff426e25c",
   "metadata": {},
   "outputs": [
    {
     "name": "stdout",
     "output_type": "stream",
     "text": [
      "[[20 40]\n",
      " [50 50]\n",
      " [60 80]]\n"
     ]
    }
   ],
   "source": [
    "print(np.insert(a,1,[50],axis=0))"
   ]
  },
  {
   "cell_type": "code",
   "execution_count": 33,
   "id": "f51452d5-b157-499f-8710-a5b43092b012",
   "metadata": {},
   "outputs": [
    {
     "name": "stdout",
     "output_type": "stream",
     "text": [
      "[[20 50 40 50]\n",
      " [60 50 80 50]]\n"
     ]
    }
   ],
   "source": [
    "print(np.insert(a,[1,2],[50],axis=1))"
   ]
  },
  {
   "cell_type": "code",
   "execution_count": 37,
   "id": "4fe16b78-3b67-4ddf-8eab-e87296b0a0f3",
   "metadata": {},
   "outputs": [
    {
     "name": "stdout",
     "output_type": "stream",
     "text": [
      "[[20 40]\n",
      " [60 80]]\n",
      "[[20]\n",
      " [60]]\n"
     ]
    }
   ],
   "source": [
    "print(a)\n",
    "print(np.delete(a,1,axis=1))"
   ]
  },
  {
   "cell_type": "code",
   "execution_count": 39,
   "id": "66092a85-fb22-496e-b5a5-c0c3c8abe979",
   "metadata": {},
   "outputs": [
    {
     "name": "stdout",
     "output_type": "stream",
     "text": [
      "[[0 1 2 3 5]\n",
      " [0 1 2 3 5]]\n"
     ]
    }
   ],
   "source": [
    "#sort, filter and serach\n",
    "ar=np.array([[3,2,1,0,5],[2,5,1,0,3]])\n",
    "print(np.sort(ar))"
   ]
  },
  {
   "cell_type": "code",
   "execution_count": 41,
   "id": "5336cec4-8776-4638-8647-fdcebb2c8bbc",
   "metadata": {},
   "outputs": [
    {
     "name": "stdout",
     "output_type": "stream",
     "text": [
      "(array([2], dtype=int64),)\n"
     ]
    }
   ],
   "source": [
    "arr=np.array([1,2,4,5,3])\n",
    "s=np.where(arr==4)\n",
    "print(s)"
   ]
  },
  {
   "cell_type": "code",
   "execution_count": 42,
   "id": "9eff29f9-7686-416d-9ff2-1e5ba75c75c0",
   "metadata": {},
   "outputs": [
    {
     "name": "stdout",
     "output_type": "stream",
     "text": [
      "(array([1, 2], dtype=int64),)\n"
     ]
    }
   ],
   "source": [
    "arr=np.array([1,2,4,5,3])\n",
    "s=np.where(arr%2==0)\n",
    "print(s)"
   ]
  },
  {
   "cell_type": "code",
   "execution_count": 45,
   "id": "8b1fad04-6220-4ae7-831e-29f8b1d368f3",
   "metadata": {},
   "outputs": [
    {
     "name": "stdout",
     "output_type": "stream",
     "text": [
      "1\n"
     ]
    }
   ],
   "source": [
    "#searchsorted\n",
    "arr=np.array([1,2,3,4,5])\n",
    "ss=np.searchsorted(arr,2)\n",
    "print(ss)"
   ]
  },
  {
   "cell_type": "code",
   "execution_count": 46,
   "id": "9aec62f3-e355-483e-a588-0ccda3124a3e",
   "metadata": {},
   "outputs": [
    {
     "name": "stdout",
     "output_type": "stream",
     "text": [
      "[20 40]\n"
     ]
    }
   ],
   "source": [
    "ar=np.array([20,30,40,50])\n",
    "fa=[True,False,True,False]\n",
    "new=ar[fa]\n",
    "print(new)"
   ]
  },
  {
   "cell_type": "code",
   "execution_count": 47,
   "id": "7ef0a887-7e7f-4c5c-a7ba-e5b81327314a",
   "metadata": {},
   "outputs": [
    {
     "name": "stdout",
     "output_type": "stream",
     "text": [
      "[20]\n"
     ]
    }
   ],
   "source": [
    "ar=np.array([20,30,40,50])\n",
    "fa=[True,False,False,False]\n",
    "new=ar[fa]\n",
    "print(new)"
   ]
  },
  {
   "cell_type": "code",
   "execution_count": 48,
   "id": "caa0f807-fabc-4692-9ecf-0c2d3d9b9095",
   "metadata": {},
   "outputs": [
    {
     "name": "stdout",
     "output_type": "stream",
     "text": [
      "[40 50]\n"
     ]
    }
   ],
   "source": [
    "fa=ar>35\n",
    "new=ar[fa]\n",
    "print(new)"
   ]
  },
  {
   "cell_type": "code",
   "execution_count": 49,
   "id": "48deb84f-dc13-45aa-8861-c2cbd8b6615d",
   "metadata": {},
   "outputs": [
    {
     "name": "stdout",
     "output_type": "stream",
     "text": [
      "[20 30 40 50]\n"
     ]
    }
   ],
   "source": [
    "fa=ar%2==0\n",
    "new=ar[fa]\n",
    "print(new)"
   ]
  },
  {
   "cell_type": "code",
   "execution_count": 56,
   "id": "321f2ed7-ace3-4380-8195-450da3631090",
   "metadata": {},
   "outputs": [
    {
     "name": "stdout",
     "output_type": "stream",
     "text": [
      "190\n",
      "20\n",
      "70\n",
      "4\n",
      "47.5\n",
      "[ 20  60 120 190]\n",
      "[     20     800   48000 3360000]\n"
     ]
    }
   ],
   "source": [
    "#aggregating Functions in numpy\n",
    "a=np.array([20,40,60,70])\n",
    "print(np.sum(a))\n",
    "print(np.min(a))\n",
    "print(np.max(a))\n",
    "print(np.size(a))\n",
    "print(np.mean(a))\n",
    "print(np.cumsum(a)) #cummalative sum\n",
    "print(np.cumprod(a)) #cummalative product\n"
   ]
  },
  {
   "cell_type": "code",
   "execution_count": 71,
   "id": "f0b3fb2e-4176-4842-8655-13b74e1fe29e",
   "metadata": {},
   "outputs": [
    {
     "name": "stdout",
     "output_type": "stream",
     "text": [
      "[100 150 199 200 250 130] [10 50 30 40 30 10]\n",
      "1029\n",
      "31270\n"
     ]
    }
   ],
   "source": [
    "a=[100,150,199,200,250,130]\n",
    "b=[10,50,30,40,30,10]\n",
    "price=np.array(a)\n",
    "quantity=np.array(b)\n",
    "print(price,quantity)\n",
    "print(np.sum(price))\n",
    "c=np.cumprod([price,quantity],axis=0)\n",
    "print(c[1].sum())"
   ]
  },
  {
   "cell_type": "code",
   "execution_count": 75,
   "id": "3b8103ef-2a34-4455-8829-0d0097fa06c0",
   "metadata": {},
   "outputs": [
    {
     "name": "stdout",
     "output_type": "stream",
     "text": [
      "202.25\n",
      "194.0\n",
      "200\n",
      "55.68157235567257\n",
      "3100.4375\n"
     ]
    }
   ],
   "source": [
    "#Statistical function in numpy\n",
    "import statistics as stats\n",
    "baked_food=[200,300,150,130,200,280,170,188]\n",
    "a=np.array(baked_food)\n",
    "print(np.mean(baked_food)) # sum of all values/no of values\n",
    "print(np.median(baked_food)) #central value after sorting\n",
    "print(stats.mode(baked_food)) #there is no mode in numpy so we use statistics library\n",
    "print(np.std(baked_food)) #standard deviation used quality assurance\n",
    "print(np.var(baked_food)) #variance"
   ]
  },
  {
   "cell_type": "code",
   "execution_count": 79,
   "id": "a035bcda-d2c1-44d8-bfa8-cd2bb794768f",
   "metadata": {},
   "outputs": [
    {
     "name": "stdout",
     "output_type": "stream",
     "text": [
      "[[1.         0.99015454]\n",
      " [0.99015454 1.        ]]\n"
     ]
    }
   ],
   "source": [
    "# -1 represents inversely proportional relationship\n",
    "# 1 represents proportional relationship\n",
    "# 0 means no relationship\n",
    "tobacco_consumption=[30,50,10,30,50,40]\n",
    "deaths=[100,120,70,100,120,112]\n",
    "print(np.corrcoef([tobacco_consumption,deaths]))"
   ]
  },
  {
   "cell_type": "code",
   "execution_count": 80,
   "id": "3236104a-ab95-402c-b906-f280d5aa7247",
   "metadata": {},
   "outputs": [
    {
     "name": "stdout",
     "output_type": "stream",
     "text": [
      "[[ 1.         -0.66621445]\n",
      " [-0.66621445  1.        ]]\n"
     ]
    }
   ],
   "source": [
    "price=[300,100,350,150,200]\n",
    "sales=[10,20,7,17,3]\n",
    "print(np.corrcoef([price,sales]))"
   ]
  },
  {
   "cell_type": "code",
   "execution_count": null,
   "id": "73230733-242a-4cd8-83f4-dace77c6ff46",
   "metadata": {},
   "outputs": [],
   "source": []
  }
 ],
 "metadata": {
  "kernelspec": {
   "display_name": "Python 3 (ipykernel)",
   "language": "python",
   "name": "python3"
  },
  "language_info": {
   "codemirror_mode": {
    "name": "ipython",
    "version": 3
   },
   "file_extension": ".py",
   "mimetype": "text/x-python",
   "name": "python",
   "nbconvert_exporter": "python",
   "pygments_lexer": "ipython3",
   "version": "3.11.7"
  }
 },
 "nbformat": 4,
 "nbformat_minor": 5
}
