{
 "cells": [
  {
   "cell_type": "code",
   "execution_count": 1,
   "id": "b564795e-c702-40f8-95b3-a1b94e6f801e",
   "metadata": {},
   "outputs": [
    {
     "name": "stdout",
     "output_type": "stream",
     "text": [
      "[1]\n"
     ]
    }
   ],
   "source": [
    "import numpy as np\n",
    "X=np.array([[-1,-1],[-2,-1],[1,1],[2,1]])\n",
    "y=np.array([1,1,2,2])\n",
    "from sklearn.svm import SVC\n",
    "clf=SVC()\n",
    "clf.fit(X,y)\n",
    "print(clf.predict([[-0.8,-1]]))"
   ]
  },
  {
   "cell_type": "markdown",
   "id": "6bda7321-b2fc-45b9-8f4e-4fcd273c175a",
   "metadata": {},
   "source": [
    "# Implementing SVC"
   ]
  },
  {
   "cell_type": "code",
   "execution_count": 45,
   "id": "76aaaac9-942e-4c4a-8e17-d8dbf8ef640c",
   "metadata": {},
   "outputs": [
    {
     "name": "stdout",
     "output_type": "stream",
     "text": [
      "Accuracy: 1.0\n",
      "Confusion Matrix:\n",
      " [[19  0  0]\n",
      " [ 0 13  0]\n",
      " [ 0  0 13]]\n",
      "Classification Report:\n",
      "               precision    recall  f1-score   support\n",
      "\n",
      "           0       1.00      1.00      1.00        19\n",
      "           1       1.00      1.00      1.00        13\n",
      "           2       1.00      1.00      1.00        13\n",
      "\n",
      "    accuracy                           1.00        45\n",
      "   macro avg       1.00      1.00      1.00        45\n",
      "weighted avg       1.00      1.00      1.00        45\n",
      "\n",
      "Predicted class for the new sample: [0]\n"
     ]
    }
   ],
   "source": [
    "import numpy as np\n",
    "from sklearn.datasets import load_iris\n",
    "from sklearn.model_selection import train_test_split\n",
    "from sklearn.svm import SVC\n",
    "from sklearn.metrics import accuracy_score,classification_report,confusion_matrix\n",
    "\n",
    "iris=load_iris()\n",
    "X=iris.data\n",
    "y=iris.target\n",
    "\n",
    "X_train,X_test,y_train,y_test=train_test_split(X,y,test_size=0.3,random_state=42)\n",
    "\n",
    "svm_model=SVC(kernel='linear',C=1.0,random_state=42)\n",
    "\n",
    "svm_model.fit(X_train,y_train)\n",
    "\n",
    "y_pred=svm_model.predict(X_test)\n",
    "\n",
    "accuracy=accuracy_score(y_test,y_pred)\n",
    "conf_matrix=confusion_matrix(y_test,y_pred)\n",
    "class_report=classification_report(y_test,y_pred)\n",
    "\n",
    "print('Accuracy:',accuracy)\n",
    "print('Confusion Matrix:\\n',conf_matrix)\n",
    "print('Classification Report:\\n',class_report)\n",
    "\n",
    "new_sample=np.array([[5.1,3.5,1.4,0.2]])\n",
    "prediction=svm_model.predict(new_sample)\n",
    "print('Predicted class for the new sample:',prediction)"
   ]
  },
  {
   "cell_type": "markdown",
   "id": "5803f3fa-ae12-46c4-85eb-0fdad84b567b",
   "metadata": {},
   "source": [
    "# Implemeanting SVR"
   ]
  },
  {
   "cell_type": "code",
   "execution_count": 38,
   "id": "e2e5b9a9-9ded-4a8c-b170-a6f3eda7c38b",
   "metadata": {},
   "outputs": [
    {
     "name": "stdout",
     "output_type": "stream",
     "text": [
      "Mean Squared Error: 1.3489971413208706\n",
      "R-squared: -0.027775938647489617\n",
      "Predicted value for the new sample: [1.80104449]\n"
     ]
    }
   ],
   "source": [
    "import numpy as np\n",
    "from sklearn import datasets\n",
    "from sklearn.model_selection import train_test_split\n",
    "from sklearn.svm import SVR\n",
    "from sklearn.metrics import mean_squared_error, r2_score\n",
    "from sklearn.datasets import fetch_california_housing\n",
    "california = fetch_california_housing()\n",
    "X = california.data\n",
    "y = california.target \n",
    "\n",
    "X_train, X_test, y_train, y_test = train_test_split(X, y, test_size=0.3, random_state=42)\n",
    "\n",
    "svr_model = SVR(kernel='rbf', C=1.0, epsilon=0.1)\n",
    "\n",
    "svr_model.fit(X_train, y_train)\n",
    "\n",
    "y_pred = svr_model.predict(X_test)\n",
    "\n",
    "mse = mean_squared_error(y_test, y_pred)\n",
    "r2 = r2_score(y_test, y_pred)\n",
    "\n",
    "print(\"Mean Squared Error:\", mse)\n",
    "print(\"R-squared:\", r2)\n",
    "\n",
    "new_sample = np.array([[8.3252, 41.0, 6.9841, 1.02381, 322.0, 2.5556, 37.88, -122.23]])  # Example sample for prediction\n",
    "prediction = svr_model.predict(new_sample)\n",
    "print(\"Predicted value for the new sample:\", prediction)"
   ]
  },
  {
   "cell_type": "code",
   "execution_count": null,
   "id": "d4706896-bb04-46cf-887b-1c9105a2791d",
   "metadata": {},
   "outputs": [],
   "source": []
  }
 ],
 "metadata": {
  "kernelspec": {
   "display_name": "Python 3 (ipykernel)",
   "language": "python",
   "name": "python3"
  },
  "language_info": {
   "codemirror_mode": {
    "name": "ipython",
    "version": 3
   },
   "file_extension": ".py",
   "mimetype": "text/x-python",
   "name": "python",
   "nbconvert_exporter": "python",
   "pygments_lexer": "ipython3",
   "version": "3.11.7"
  }
 },
 "nbformat": 4,
 "nbformat_minor": 5
}
